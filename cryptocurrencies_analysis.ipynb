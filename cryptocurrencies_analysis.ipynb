{
 "cells": [
  {
   "cell_type": "code",
   "execution_count": null,
   "metadata": {},
   "outputs": [],
   "source": [
    "%load_ext autoreload\n",
    "%autoreload 2"
   ]
  },
  {
   "cell_type": "code",
   "execution_count": null,
   "metadata": {},
   "outputs": [],
   "source": [
    "#import sys\n",
    "#!{sys.executable} -m pip install -r requirements.txt"
   ]
  },
  {
   "cell_type": "code",
   "execution_count": null,
   "metadata": {},
   "outputs": [],
   "source": [
    "import numpy as np\n",
    "import pandas as pd\n",
    "from pandas.plotting import register_matplotlib_converters\n",
    "pd.plotting.register_matplotlib_converters()\n",
    "import matplotlib.pyplot as plt\n",
    "from datetime import datetime\n",
    "from datetime import timedelta\n",
    "\n",
    "# just set the seed for the random number generator\n",
    "#np.random.seed(107)"
   ]
  },
  {
   "cell_type": "code",
   "execution_count": null,
   "metadata": {},
   "outputs": [],
   "source": [
    "# Change...\n",
    "pair = 'ENJBTC'\n",
    "\n",
    "# interval used to compute indicators and backtest analysis\n",
    "# valid strategy intervals - 1min, 3min, 5min, 15min, 30min, 1H, 2H, 4H, 6H, 8H, 12H, 1D, 3D, 1W, 1M\n",
    "strategy_interval = '1H'\n",
    "\n",
    "# date to start/end analysis\n",
    "# Use '' for not to limit the data\n",
    "dt_start_analysis = '2021-09-09'\n",
    "dt_end_analysis = ''\n"
   ]
  },
  {
   "cell_type": "code",
   "execution_count": null,
   "metadata": {},
   "outputs": [],
   "source": [
    "from binance_utils import init\n",
    "from trade_utils import get_data\n",
    "\n",
    "client = init()\n",
    "data = get_data(client, pair, strategy_interval)"
   ]
  },
  {
   "cell_type": "code",
   "execution_count": null,
   "metadata": {},
   "outputs": [],
   "source": [
    "data.shape"
   ]
  },
  {
   "cell_type": "code",
   "execution_count": null,
   "metadata": {},
   "outputs": [],
   "source": [
    "data.info()"
   ]
  },
  {
   "cell_type": "code",
   "execution_count": null,
   "metadata": {},
   "outputs": [],
   "source": [
    "data.head()"
   ]
  },
  {
   "cell_type": "code",
   "execution_count": null,
   "metadata": {},
   "outputs": [],
   "source": [
    "data.tail()"
   ]
  },
  {
   "cell_type": "code",
   "execution_count": null,
   "metadata": {},
   "outputs": [],
   "source": [
    "data.sample(10)"
   ]
  },
  {
   "cell_type": "code",
   "execution_count": null,
   "metadata": {},
   "outputs": [],
   "source": [
    "from technical_indicator_utils import get_sma, get_ema, get_macd, get_rsi, get_adx, get_bbands, get_rvi\n",
    "\n",
    "# Calculate returns\n",
    "data['Returns'] = data['ClosePrice'].pct_change() * 100 # pct_change() = percent change from previous price\n",
    "data['Returns2'] = data['ClosePrice'].pct_change(2) * 100 # change from 2 previous price\n",
    "data['Returns5'] = data['ClosePrice'].pct_change(5) * 100 # change from 5 previous price\n",
    "\n",
    "# Volatility\n",
    "data['volatility'] = data.rolling(24, min_periods = 24)['Returns'].std() * 100\n",
    "\n",
    "# SMA\n",
    "data['SMA5'] = get_sma(data['ClosePrice'], 5)\n",
    "data['SMA10'] = get_sma(data['ClosePrice'], 10)\n",
    "data['SMA20'] = get_sma(data['ClosePrice'], 20)\n",
    "data['SMA30'] = get_sma(data['ClosePrice'], 30)\n",
    "data['SMA50'] = get_sma(data['ClosePrice'], 50)\n",
    "data['SMA100'] = get_sma(data['ClosePrice'], 100)\n",
    "data['SMA200'] = get_sma(data['ClosePrice'], 200)\n",
    "\n",
    "# EMA\n",
    "data['EMA5'] = get_ema(data['ClosePrice'], 5)\n",
    "data['EMA10'] = get_ema(data['ClosePrice'], 10)\n",
    "data['EMA20'] = get_ema(data['ClosePrice'], 20)\n",
    "data['EMA30'] = get_ema(data['ClosePrice'], 30)\n",
    "data['EMA50'] = get_ema(data['ClosePrice'], 50)\n",
    "data['EMA100'] = get_ema(data['ClosePrice'], 100)\n",
    "data['EMA200'] = get_ema(data['ClosePrice'], 200)\n",
    "\n",
    "# MACD\n",
    "data['MACD'], data['MACDSignal'], data['MACDHist'] = get_macd(data['ClosePrice'])\n",
    "\n",
    "# RVI\n",
    "data['RVI'], data['RVISignal'] = get_rvi(data['OpenPrice'], data['ClosePrice'], data['LowPrice'], data['HighPrice'])\n",
    "\n",
    "# RSI\n",
    "data['RSI'] = get_rsi(data.ClosePrice)\n",
    "\n",
    "# ADX\n",
    "data['DI+'], data['DI-'], data['ADX'] = get_adx(data['HighPrice'], data['LowPrice'], data['ClosePrice'])\n",
    "\n",
    "# Bollinger Bands\n",
    "data['UpperBBand'], data['MidiBBand'], data['LowerBBand'] = get_bbands(data['ClosePrice'])"
   ]
  },
  {
   "cell_type": "code",
   "execution_count": null,
   "metadata": {},
   "outputs": [],
   "source": [
    "#limit data to plot\n",
    "if dt_end_analysis == '' and dt_start_analysis != '':\n",
    "    data = data[dt_start_analysis:]\n",
    "elif dt_end_analysis != '' and dt_start_analysis == '':\n",
    "    data = data[:dt_end_analysis]\n",
    "elif dt_end_analysis != '' and dt_start_analysis != '':\n",
    "    data = data[dt_start_analysis:dt_end_analysis]"
   ]
  },
  {
   "cell_type": "code",
   "execution_count": null,
   "metadata": {},
   "outputs": [],
   "source": [
    "from technical_indicator_utils import get_fibonacci_retracement_levels\n",
    "\n",
    "# Fibonacci retracement\n",
    "fib_levels = get_fibonacci_retracement_levels(data['ClosePrice'].max(), data['ClosePrice'].min())"
   ]
  },
  {
   "cell_type": "code",
   "execution_count": null,
   "metadata": {},
   "outputs": [],
   "source": [
    "# Plot the histogram\n",
    "data['Returns'].hist(bins=100, color='red')\n",
    "plt.ylabel('Frequency')\n",
    "plt.xlabel('Return')\n",
    "plt.title('Return histogram')\n",
    "plt.show()"
   ]
  },
  {
   "cell_type": "code",
   "execution_count": null,
   "metadata": {},
   "outputs": [],
   "source": [
    "#plt.style.use('fivethirtyeight')"
   ]
  },
  {
   "cell_type": "code",
   "execution_count": null,
   "metadata": {},
   "outputs": [],
   "source": [
    "fig, (ax1, ax2, ax3, ax4, ax5, ax6, ax7, ax8) = plt.subplots(nrows=8, sharex=True, figsize=(14, 28), gridspec_kw = {'height_ratios':[3, 3, 3, 1, 1, 1, 1, 1]})\n",
    "\n",
    "# Price x SMA\n",
    "ax1.plot(data.index, data[['ClosePrice', 'SMA50', 'SMA100']])\n",
    "# Fibonacci retracement\n",
    "ax1.axhspan(fib_levels['level1'], fib_levels['price_min'], alpha=0.4, color='lightsalmon')\n",
    "ax1.axhspan(fib_levels['level2'], fib_levels['level1'], alpha=0.5, color='palegoldenrod')\n",
    "ax1.axhspan(fib_levels['level3'], fib_levels['level2'], alpha=0.5, color='palegreen')\n",
    "ax1.axhspan(fib_levels['price_max'], fib_levels['level3'], alpha=0.5, color='powderblue')\n",
    "ax1.set_ylabel('Price - SMA')\n",
    "\n",
    "# Price x EMA\n",
    "ax2.plot(data.index, data[['ClosePrice', 'EMA50', 'EMA100']])\n",
    "# Fibonacci retracement\n",
    "ax2.axhspan(fib_levels['level1'], fib_levels['price_min'], alpha=0.4, color='lightsalmon')\n",
    "ax2.axhspan(fib_levels['level2'], fib_levels['level1'], alpha=0.5, color='palegoldenrod')\n",
    "ax2.axhspan(fib_levels['level3'], fib_levels['level2'], alpha=0.5, color='palegreen')\n",
    "ax2.axhspan(fib_levels['price_max'], fib_levels['level3'], alpha=0.5, color='powderblue')\n",
    "ax2.set_ylabel('Price - EMA')\n",
    "\n",
    "# Bollinger Bands\n",
    "ax3.plot(data['ClosePrice'], label='Price')\n",
    "ax3.plot(data['UpperBBand'], label='Upper band')\n",
    "ax3.plot(data['MidiBBand'], label='Middle band')\n",
    "ax3.plot(data['LowerBBand'], label='Lower band')\n",
    "ax3.legend()\n",
    "ax3.set_ylabel('Bollinger Bands')\n",
    "\n",
    "# MACD\n",
    "ax4.plot(data.index, data['MACD'], label='MACD', color = 'red')\n",
    "ax4.bar(data.index, data['MACDHist'], label='Hist', color=\"purple\", width = timedelta(hours=1))\n",
    "ax4.plot(data.index, data['MACDSignal'], label='Signal', color='blue')\n",
    "ax4.legend()\n",
    "ax4.set_ylabel('MACD')\n",
    "\n",
    "# RVI\n",
    "ax5.plot(data.index, data['RVI'], label='RVI', color = 'red')\n",
    "ax5.plot(data.index, data['RVISignal'], label='Signal', color='blue')\n",
    "ax5.legend()\n",
    "ax5.set_ylabel('RVI')\n",
    "\n",
    "# RSI\n",
    "ax6.plot(data.index, [70] * len(data.index), label='overbought')\n",
    "ax6.plot(data.index, [30] * len(data.index), label='oversold')\n",
    "ax6.plot(data.index, data['RSI'], label='RSI')\n",
    "ax6.legend()\n",
    "ax6.set_ylabel('RSI')\n",
    "\n",
    "# ADX\n",
    "ax7.plot(data.index, data[['DI+', 'DI-']])\n",
    "ax7.plot(data.index, data[['ADX']], color='purple', linestyle='dashed')\n",
    "ax7.plot(data.index, [25] * len(data.index), color = 'red')\n",
    "ax7.set_ylabel('ADX')\n",
    "\n",
    "# Volume\n",
    "# make bar plots and color differently depending on up/down for the day\n",
    "pos = data['OpenPrice'] - data['ClosePrice'] < 0\n",
    "neg = data['OpenPrice'] - data['ClosePrice'] > 0\n",
    "ax8.bar(data.index[pos], data[pos]['Volume'], color='green', width = timedelta(hours=1))\n",
    "ax8.bar(data.index[neg], data[neg]['Volume'], color='red', width = timedelta(hours=1))\n",
    "\n",
    "#ax7.bar(data.index, data['Volume'] / 1000000, width = timedelta(hours=4))\n",
    "ax8.set_ylabel('Volume')\n",
    "\n",
    "fig.tight_layout()"
   ]
  },
  {
   "cell_type": "markdown",
   "metadata": {},
   "source": [
    "## Backtest Strategy"
   ]
  },
  {
   "cell_type": "code",
   "execution_count": null,
   "metadata": {},
   "outputs": [],
   "source": [
    "import bt\n",
    "\n",
    "# Get the price data\n",
    "price_data = data[['ClosePrice']].copy()"
   ]
  },
  {
   "cell_type": "code",
   "execution_count": null,
   "metadata": {},
   "outputs": [],
   "source": [
    "from strategy_utils import get_cross_signal\n",
    "from backtest_utils import signal_strategy\n",
    "\n",
    "signal = get_cross_signal(data[['SMA50']].copy(), data[['SMA200']].copy())\n",
    "bt_sma_cross = signal_strategy(price_data.copy(), signal, 'sma_cross')"
   ]
  },
  {
   "cell_type": "code",
   "execution_count": null,
   "metadata": {},
   "outputs": [],
   "source": [
    "from strategy_utils import get_cross_signal\n",
    "from backtest_utils import signal_strategy\n",
    "\n",
    "signal = get_cross_signal(data[['EMA50']].copy(), data[['EMA200']].copy())\n",
    "bt_ema_cross = signal_strategy(price_data.copy(), signal, 'ema_cross')"
   ]
  },
  {
   "cell_type": "code",
   "execution_count": null,
   "metadata": {},
   "outputs": [],
   "source": [
    "from strategy_utils import get_rsi_signal\n",
    "from backtest_utils import signal_strategy\n",
    "\n",
    "#signal = get_rsi_signal(data[['RSI']].copy())\n",
    "signal = get_rsi_signal(data[['RSI']].copy(), overbought_value=70, oversold_value=30)\n",
    "\n",
    "# Merge the data\n",
    "combined_df = bt.merge(signal, price_data)\n",
    "combined_df.columns = ['signal', 'Price']\n",
    "combined_df.plot(secondary_y=['signal'])\n",
    "plt.show()"
   ]
  },
  {
   "cell_type": "code",
   "execution_count": null,
   "metadata": {},
   "outputs": [],
   "source": [
    "bt_rsi = signal_strategy(price_data.copy(), signal, 'rsi_mr')\n",
    "\n",
    "bt_result = bt.run(bt_rsi)\n",
    "# Plot the backtest result\n",
    "bt_result.plot(title='Backtest result')\n",
    "plt.show()"
   ]
  },
  {
   "cell_type": "code",
   "execution_count": null,
   "metadata": {},
   "outputs": [],
   "source": [
    "from strategy_utils import get_inverted_rsi_signal\n",
    "from backtest_utils import signal_strategy\n",
    "\n",
    "#signal = get_rsi_signal(data[['RSI']].copy())\n",
    "signal = get_inverted_rsi_signal(data[['RSI']].copy(), overbought_value=70)\n",
    "\n",
    "# Merge the data\n",
    "combined_df = bt.merge(signal, price_data)\n",
    "combined_df.columns = ['signal', 'Price']\n",
    "combined_df.plot(secondary_y=['signal'])\n",
    "plt.show()"
   ]
  },
  {
   "cell_type": "code",
   "execution_count": null,
   "metadata": {},
   "outputs": [],
   "source": [
    "bt_inverted_rsi = signal_strategy(price_data.copy(), signal, 'rsi_inverted')\n",
    "\n",
    "bt_result = bt.run(bt_inverted_rsi)\n",
    "# Plot the backtest result\n",
    "bt_result.plot(title='Backtest result')\n",
    "plt.show()"
   ]
  },
  {
   "cell_type": "code",
   "execution_count": null,
   "metadata": {},
   "outputs": [],
   "source": [
    "from strategy_utils import get_rsi_adx_signal\n",
    "from backtest_utils import signal_strategy\n",
    "\n",
    "signal = get_rsi_adx_signal(data[['RSI']].copy(), data[['ADX']].copy(), data[['DI+']].copy(), data[['DI-']].copy(), overbought_value=70.0, oversold_value=30.0)\n",
    "\n",
    "# Merge the data\n",
    "combined_df = bt.merge(signal, price_data)\n",
    "combined_df.columns = ['signal', 'Price']\n",
    "combined_df.plot(secondary_y=['signal'])\n",
    "plt.show()"
   ]
  },
  {
   "cell_type": "code",
   "execution_count": null,
   "metadata": {},
   "outputs": [],
   "source": [
    "bt_rsi_adx = signal_strategy(price_data.copy(), signal, 'rsi_adx')\n",
    "\n",
    "bt_result = bt.run(bt_rsi_adx)\n",
    "# Plot the backtest result\n",
    "bt_result.plot(title='Backtest result')\n",
    "plt.show()"
   ]
  },
  {
   "cell_type": "code",
   "execution_count": null,
   "metadata": {},
   "outputs": [],
   "source": [
    "from strategy_utils import get_rsi_plus_signal\n",
    "from backtest_utils import signal_strategy\n",
    "\n",
    "signal = get_rsi_plus_signal(data[['RSI']].copy())\n",
    "\n",
    "# Merge the data\n",
    "combined_df = bt.merge(signal, price_data)\n",
    "combined_df.columns = ['signal', 'Price']\n",
    "combined_df.plot(secondary_y=['signal'])\n",
    "plt.show()"
   ]
  },
  {
   "cell_type": "code",
   "execution_count": null,
   "metadata": {},
   "outputs": [],
   "source": [
    "bt_rsi_plus = signal_strategy(price_data.copy(), signal, 'rsi_plus')\n",
    "\n",
    "bt_result = bt.run(bt_rsi_plus)\n",
    "# Plot the backtest result\n",
    "bt_result.plot(title='Backtest result')\n",
    "plt.show()"
   ]
  },
  {
   "cell_type": "code",
   "execution_count": null,
   "metadata": {},
   "outputs": [],
   "source": [
    "from strategy_utils import get_macd_signal\n",
    "from backtest_utils import signal_strategy\n",
    "\n",
    "signal = get_macd_signal(data[['MACDSignal']].copy(), data[['MACD']].copy())\n",
    "\n",
    "# Merge the data\n",
    "combined_df = bt.merge(signal, price_data)\n",
    "combined_df.columns = ['signal', 'Price']\n",
    "combined_df.plot(secondary_y=['signal'])\n",
    "plt.show()"
   ]
  },
  {
   "cell_type": "code",
   "execution_count": null,
   "metadata": {},
   "outputs": [],
   "source": [
    "bt_macd = signal_strategy(price_data.copy(), signal, 'macd')\n",
    "\n",
    "bt_result = bt.run(bt_macd)\n",
    "# Plot the backtest result\n",
    "bt_result.plot(title='Backtest result')\n",
    "plt.show()"
   ]
  },
  {
   "cell_type": "code",
   "execution_count": null,
   "metadata": {},
   "outputs": [],
   "source": [
    "from strategy_utils import get_macd_rvi_signal\n",
    "from backtest_utils import signal_strategy\n",
    "\n",
    "signal = get_macd_rvi_signal(data[['MACDSignal']].copy(), data[['MACD']].copy(), data[['RVISignal']].copy(), data[['RVI']].copy())\n",
    "\n",
    "# Merge the data\n",
    "combined_df = bt.merge(signal, price_data)\n",
    "combined_df.columns = ['signal', 'Price']\n",
    "combined_df.plot(secondary_y=['signal'])\n",
    "plt.show()"
   ]
  },
  {
   "cell_type": "code",
   "execution_count": null,
   "metadata": {},
   "outputs": [],
   "source": [
    "bt_macd_rvi = signal_strategy(price_data.copy(), signal, 'macd_rvi')\n",
    "\n",
    "bt_result = bt.run(bt_macd_rvi)\n",
    "# Plot the backtest result\n",
    "bt_result.plot(title='Backtest result')\n",
    "plt.show()"
   ]
  },
  {
   "cell_type": "code",
   "execution_count": null,
   "metadata": {},
   "outputs": [],
   "source": [
    "from strategy_utils import get_sma_macd_signal\n",
    "from backtest_utils import signal_strategy\n",
    "\n",
    "signal = get_sma_macd_signal(data[['ClosePrice']].copy(), data[['SMA50']].copy(), data[['SMA100']].copy(), data[['MACD']].copy())\n",
    "\n",
    "# Merge the data\n",
    "combined_df = bt.merge(signal, price_data)\n",
    "combined_df.columns = ['signal', 'Price']\n",
    "combined_df.plot(secondary_y=['signal'])\n",
    "plt.show()"
   ]
  },
  {
   "cell_type": "code",
   "execution_count": null,
   "metadata": {},
   "outputs": [],
   "source": [
    "bt_sma_macd = signal_strategy(price_data.copy(), signal, 'sma_macd')\n",
    "\n",
    "bt_result = bt.run(bt_sma_macd)\n",
    "# Plot the backtest result\n",
    "bt_result.plot(title='Backtest result')\n",
    "plt.show()"
   ]
  },
  {
   "cell_type": "code",
   "execution_count": null,
   "metadata": {},
   "outputs": [],
   "source": [
    "from strategy_utils import get_adx_macd_signal\n",
    "from backtest_utils import signal_strategy\n",
    "\n",
    "signal = get_adx_macd_signal(data[['MACD']].copy(), data[['DI+']].copy(), data[['DI-']].copy(), data[['ADX']].copy())\n",
    "\n",
    "# Merge the data\n",
    "combined_df = bt.merge(signal, price_data)\n",
    "combined_df.columns = ['signal', 'Price']\n",
    "combined_df.plot(secondary_y=['signal'])\n",
    "plt.show()"
   ]
  },
  {
   "cell_type": "code",
   "execution_count": null,
   "metadata": {},
   "outputs": [],
   "source": [
    "bt_adx_macd = signal_strategy(price_data.copy(), signal, 'adx_macd')\n",
    "\n",
    "bt_result = bt.run(bt_adx_macd)\n",
    "# Plot the backtest result\n",
    "bt_result.plot(title='Backtest result')\n",
    "plt.show()"
   ]
  },
  {
   "cell_type": "code",
   "execution_count": null,
   "metadata": {},
   "outputs": [],
   "source": [
    "from strategy_utils import get_bbands_signal\n",
    "from backtest_utils import signal_strategy\n",
    "\n",
    "signal = get_bbands_signal(data[['ClosePrice']].copy(), data[['UpperBBand']].copy(), data[['LowerBBand']].copy())\n",
    "\n",
    "# Merge the data\n",
    "combined_df = bt.merge(signal, price_data)\n",
    "combined_df.columns = ['signal', 'Price']\n",
    "combined_df.plot(secondary_y=['signal'])\n",
    "plt.show()"
   ]
  },
  {
   "cell_type": "code",
   "execution_count": null,
   "metadata": {},
   "outputs": [],
   "source": [
    "bt_bbands = signal_strategy(price_data.copy(), signal, 'bbands')\n",
    "\n",
    "bt_result = bt.run(bt_bbands)\n",
    "# Plot the backtest result\n",
    "bt_result.plot(title='Backtest result')\n",
    "plt.show()"
   ]
  },
  {
   "cell_type": "code",
   "execution_count": null,
   "metadata": {},
   "outputs": [],
   "source": [
    "from backtest_utils import signal_above_strategy, buy_and_hold_strategy\n",
    "\n",
    "# Create signal strategy backtest\n",
    "bt_sma5 = signal_above_strategy(price_data.copy(), data[['SMA5']].copy(), name='SMA5')\n",
    "bt_sma10 = signal_above_strategy(price_data.copy(), data[['SMA10']].copy(), name='SMA10')\n",
    "bt_sma20 = signal_above_strategy(price_data.copy(), data[['SMA20']].copy(), name='SMA20')\n",
    "bt_sma30 = signal_above_strategy(price_data.copy(), data[['SMA30']].copy(), name='SMA30')\n",
    "bt_sma50 = signal_above_strategy(price_data.copy(), data[['SMA50']].copy(), name='SMA50')\n",
    "bt_sma100 = signal_above_strategy(price_data.copy(), data[['SMA100']].copy(), name='SMA100')\n",
    "\n",
    "# Create benchmark strategy backtest\n",
    "bt_benchmark = buy_and_hold_strategy(price_data.copy(), name='benchmark')"
   ]
  },
  {
   "cell_type": "code",
   "execution_count": null,
   "metadata": {},
   "outputs": [],
   "source": [
    "# Run all backtests and plot the resutls\n",
    "bt_results = bt.run(bt_sma5, bt_sma10, bt_sma20, bt_sma30, bt_sma50, bt_sma100, \n",
    "                    #bt_sma_cross, bt_ema_cross, bt_rsi, bt_rsi_adx, bt_rsi_plus, bt_macd, bt_sma_macd, bt_adx_macd, bt_bbands, bt_inverted_rsi, bt_macd_rvi,\n",
    "                    bt_rsi, bt_rsi_adx, bt_rsi_plus, bt_macd, bt_sma_macd, bt_adx_macd, bt_bbands, bt_inverted_rsi, bt_macd_rvi,\n",
    "                    bt_benchmark)\n",
    "# Plot results\n",
    "bt_results.plot(title='Strategy benchmarking')\n",
    "plt.show()"
   ]
  },
  {
   "cell_type": "code",
   "execution_count": null,
   "metadata": {},
   "outputs": [],
   "source": [
    "bt_results.display()"
   ]
  },
  {
   "cell_type": "code",
   "execution_count": null,
   "metadata": {},
   "outputs": [],
   "source": [
    "# Obtain all backtest stats\n",
    "resInfo = bt_results.stats\n",
    "ordered_strategies = resInfo.loc['total_return'].sort_values(ascending=False)\n",
    "print(ordered_strategies)\n",
    "\n",
    "best_strategy = ''\n",
    "if resInfo.loc['total_return'].sort_values(ascending=False).index[0] == 'benchmark':\n",
    "    best_strategy = resInfo.loc['total_return'].sort_values(ascending=False).index[1]\n",
    "else:\n",
    "    best_strategy = resInfo.loc['total_return'].sort_values(ascending=False).index[0]\n",
    "\n",
    "bt_best = bt_results.backtests[best_strategy]"
   ]
  },
  {
   "cell_type": "code",
   "execution_count": null,
   "metadata": {},
   "outputs": [],
   "source": [
    "bt_results_best = bt.run(bt_benchmark, bt_best)\n",
    "bt_results_best.plot(title='Strategy benchmarking')\n",
    "plt.show()"
   ]
  },
  {
   "cell_type": "code",
   "execution_count": null,
   "metadata": {},
   "outputs": [],
   "source": [
    "bt_results_best.get_transactions(strategy_name=best_strategy)"
   ]
  },
  {
   "cell_type": "code",
   "execution_count": null,
   "metadata": {},
   "outputs": [],
   "source": [
    "# Plot the backtest result\n",
    "title = 'Backtest result ' + pair + '-' + strategy_interval\n",
    "bt_results.plot(title=title)\n",
    "plt.show()\n",
    "\n",
    "# Get the lookback returns\n",
    "lookback_returns = bt_results.display_lookback_returns()\n",
    "print(lookback_returns)"
   ]
  },
  {
   "cell_type": "markdown",
   "metadata": {},
   "source": [
    "# Tests"
   ]
  },
  {
   "cell_type": "code",
   "execution_count": null,
   "metadata": {},
   "outputs": [],
   "source": [
    "bt_results_test = bt.run(bt_benchmark, bt_sma50, bt_macd_rvi)\n",
    "title = 'Strategy benchmarking ' + pair + '-' + strategy_interval\n",
    "bt_results_test.plot(title=title)\n"
   ]
  },
  {
   "cell_type": "code",
   "execution_count": null,
   "metadata": {},
   "outputs": [],
   "source": [
    "data['volatility'].plot()"
   ]
  }
 ],
 "metadata": {
  "interpreter": {
   "hash": "bd68a82b279477891a073de5f4c1f7ccc3e7bb19aaa18e5617a6e5ec99b1b0b0"
  },
  "kernelspec": {
   "display_name": "Python 3.8.10 64-bit ('.venv': venv)",
   "name": "python3"
  },
  "language_info": {
   "codemirror_mode": {
    "name": "ipython",
    "version": 3
   },
   "file_extension": ".py",
   "mimetype": "text/x-python",
   "name": "python",
   "nbconvert_exporter": "python",
   "pygments_lexer": "ipython3",
   "version": "3.8.10"
  },
  "orig_nbformat": 2
 },
 "nbformat": 4,
 "nbformat_minor": 2
}
