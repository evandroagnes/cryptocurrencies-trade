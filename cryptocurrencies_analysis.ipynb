{
 "cells": [
  {
   "cell_type": "code",
   "execution_count": null,
   "metadata": {},
   "outputs": [],
   "source": [
    "%load_ext autoreload\n",
    "%autoreload 2"
   ]
  },
  {
   "cell_type": "code",
   "execution_count": null,
   "metadata": {},
   "outputs": [],
   "source": [
    "#!pip install statsmodels\n",
    "#!pip install python-binance\n",
    "#!pip install seaborn"
   ]
  },
  {
   "cell_type": "code",
   "execution_count": null,
   "metadata": {},
   "outputs": [],
   "source": [
    "import numpy as np\n",
    "import pandas as pd\n",
    "from pandas.plotting import register_matplotlib_converters\n",
    "pd.plotting.register_matplotlib_converters()\n",
    "import matplotlib.pyplot as plt\n",
    "import statsmodels\n",
    "from statsmodels.tsa.stattools import coint\n",
    "from datetime import datetime\n",
    "from datetime import timedelta\n",
    "\n",
    "# just set the seed for the random number generator\n",
    "#np.random.seed(107)"
   ]
  },
  {
   "cell_type": "code",
   "execution_count": null,
   "metadata": {},
   "outputs": [],
   "source": [
    "# valid intervals - 1m, 3m, 5m, 15m, 30m, 1h, 2h, 4h, 6h, 8h, 12h, 1d, 3d, 1w, 1M\n",
    "interval = '1m'\n",
    "pair = 'BTCUSDT'"
   ]
  },
  {
   "cell_type": "code",
   "execution_count": null,
   "metadata": {},
   "outputs": [],
   "source": [
    "df = pd.read_csv('data/' + pair + '-' + interval + '-binance.csv')\n",
    "df['OpenTime'] = pd.to_datetime(df['OpenTime'])\n",
    "df.set_index('OpenTime', inplace=True)"
   ]
  },
  {
   "cell_type": "code",
   "execution_count": null,
   "metadata": {},
   "outputs": [],
   "source": [
    "df.shape"
   ]
  },
  {
   "cell_type": "code",
   "execution_count": null,
   "metadata": {},
   "outputs": [],
   "source": [
    "df.info()"
   ]
  },
  {
   "cell_type": "code",
   "execution_count": null,
   "metadata": {},
   "outputs": [],
   "source": [
    "df.head()"
   ]
  },
  {
   "cell_type": "code",
   "execution_count": null,
   "metadata": {},
   "outputs": [],
   "source": [
    "df.tail()"
   ]
  },
  {
   "cell_type": "code",
   "execution_count": null,
   "metadata": {},
   "outputs": [],
   "source": [
    "from binance_utils import update_historical_data\n",
    "\n",
    "df = update_historical_data(df, pair, interval)"
   ]
  },
  {
   "cell_type": "code",
   "execution_count": null,
   "metadata": {},
   "outputs": [],
   "source": [
    "filename = 'data/' + pair + '-' + interval + '-binance.csv'\n",
    "df.to_csv(filename)"
   ]
  },
  {
   "cell_type": "code",
   "execution_count": null,
   "metadata": {},
   "outputs": [],
   "source": [
    "summaries = {'OpenPrice': 'first', 'HighPrice': 'max', 'LowPrice': 'min', 'ClosePrice': 'last', 'Volume': 'sum'}\n",
    "\n",
    "df_1m = df.copy()\n",
    "\n",
    "df_15m = df.resample('15min').agg(summaries)\n",
    "df_15m.dropna(inplace=True)\n",
    "\n",
    "df_1h = df.resample('1H').agg(summaries)\n",
    "df_1h.dropna(inplace=True)\n",
    "\n",
    "df_4h = df.resample('4H').agg(summaries)\n",
    "df_4h.dropna(inplace=True)\n",
    "\n",
    "df_1d = df.resample('1D').agg(summaries)\n",
    "df_1d.dropna(inplace=True)"
   ]
  },
  {
   "cell_type": "code",
   "execution_count": null,
   "metadata": {},
   "outputs": [],
   "source": [
    "# select data to generate indicators\n",
    "data = df_1h.copy()\n",
    "#data = df_1d.copy()"
   ]
  },
  {
   "cell_type": "code",
   "execution_count": null,
   "metadata": {},
   "outputs": [],
   "source": [
    "#filename = 'data/' + pair + '1d-binance.csv'\n",
    "#data[data.index > '2021-03-01'][['HighPrice', 'LowPrice', 'ClosePrice']].to_csv(filename)"
   ]
  },
  {
   "cell_type": "code",
   "execution_count": null,
   "metadata": {},
   "outputs": [],
   "source": [
    "data.sample(10)"
   ]
  },
  {
   "cell_type": "code",
   "execution_count": null,
   "metadata": {},
   "outputs": [],
   "source": [
    "from technical_indicator_utils import sma, ema, macd, rsi, adx, bbands\n",
    "\n",
    "# Calculate daily returns\n",
    "data['daily_return'] = data['ClosePrice'].pct_change() * 100 # pct_change() = percent change from previous day\n",
    "\n",
    "# SMA\n",
    "data['SMA5'] = sma(data['ClosePrice'], 5)\n",
    "data['SMA10'] = sma(data['ClosePrice'], 10)\n",
    "data['SMA20'] = sma(data['ClosePrice'], 20)\n",
    "data['SMA30'] = sma(data['ClosePrice'], 30)\n",
    "data['SMA50'] = sma(data['ClosePrice'], 50)\n",
    "data['SMA90'] = sma(data['ClosePrice'], 90)\n",
    "data['SMA200'] = sma(data['ClosePrice'], 200)\n",
    "\n",
    "# EMA\n",
    "data['EMA5'] = ema(data['ClosePrice'], 5)\n",
    "data['EMA10'] = ema(data['ClosePrice'], 10)\n",
    "data['EMA20'] = ema(data['ClosePrice'], 20)\n",
    "data['EMA30'] = ema(data['ClosePrice'], 30)\n",
    "data['EMA50'] = ema(data['ClosePrice'], 50)\n",
    "data['EMA90'] = ema(data['ClosePrice'], 90)\n",
    "data['EMA200'] = ema(data['ClosePrice'], 200)\n",
    "\n",
    "# MACD\n",
    "data['MACD'], data['signal'], data['MACDH'] = macd(data.ClosePrice)\n",
    "\n",
    "# RSI\n",
    "data['rsi'] = rsi(data.ClosePrice)\n",
    "\n",
    "# ADX\n",
    "data['DI+'], data['DI-'], data['ADX'] = adx(data.HighPrice, data.LowPrice, data.ClosePrice)\n",
    "\n",
    "# Bollinger Bands\n",
    "data['UpperBBand'], data['MidiBBand'], data['LowerBBand'] = bbands(data.ClosePrice)"
   ]
  },
  {
   "cell_type": "markdown",
   "metadata": {},
   "source": []
  },
  {
   "cell_type": "code",
   "execution_count": null,
   "metadata": {},
   "outputs": [],
   "source": [
    "#filename = 'data/' + pair + '1h-indicators-binance.csv'\n",
    "#data.to_csv(filename)"
   ]
  },
  {
   "cell_type": "code",
   "execution_count": null,
   "metadata": {},
   "outputs": [],
   "source": [
    "#limit data for plot\n",
    "data = data['2021-6-1':]"
   ]
  },
  {
   "cell_type": "code",
   "execution_count": null,
   "metadata": {},
   "outputs": [],
   "source": [
    "from technical_indicator_utils import fibonacci_retracement_levels\n",
    "\n",
    "# Fibonacci retracement\n",
    "fib_levels = fibonacci_retracement_levels(data['ClosePrice'].max(), data['ClosePrice'].min())"
   ]
  },
  {
   "cell_type": "code",
   "execution_count": null,
   "metadata": {},
   "outputs": [],
   "source": [
    "# Plot the histogram\n",
    "data['daily_return'].hist(bins=100, color='red')\n",
    "plt.ylabel('Frequency')\n",
    "plt.xlabel('Daily return')\n",
    "plt.title('Daily return histogram')\n",
    "plt.show()"
   ]
  },
  {
   "cell_type": "code",
   "execution_count": null,
   "metadata": {},
   "outputs": [],
   "source": [
    "fig, (ax1, ax2, ax3, ax4, ax5, ax6, ax7) = plt.subplots(nrows=7, sharex=True, figsize=(14, 28), gridspec_kw = {'height_ratios':[3, 3, 3, 1, 1, 1, 1]})\n",
    "\n",
    "# Price x SMA\n",
    "ax1.plot(data.index, data[['ClosePrice', 'SMA50', 'SMA90']])\n",
    "# Fibonacci retracement\n",
    "ax1.axhspan(fib_levels['level1'], fib_levels['price_min'], alpha=0.4, color='lightsalmon')\n",
    "ax1.axhspan(fib_levels['level2'], fib_levels['level1'], alpha=0.5, color='palegoldenrod')\n",
    "ax1.axhspan(fib_levels['level3'], fib_levels['level2'], alpha=0.5, color='palegreen')\n",
    "ax1.axhspan(fib_levels['price_max'], fib_levels['level3'], alpha=0.5, color='powderblue')\n",
    "ax1.set_ylabel('Price - SMA')\n",
    "\n",
    "# Price x EMA\n",
    "ax2.plot(data.index, data[['ClosePrice', 'EMA50', 'EMA90']])\n",
    "# Fibonacci retracement\n",
    "ax2.axhspan(fib_levels['level1'], fib_levels['price_min'], alpha=0.4, color='lightsalmon')\n",
    "ax2.axhspan(fib_levels['level2'], fib_levels['level1'], alpha=0.5, color='palegoldenrod')\n",
    "ax2.axhspan(fib_levels['level3'], fib_levels['level2'], alpha=0.5, color='palegreen')\n",
    "ax2.axhspan(fib_levels['price_max'], fib_levels['level3'], alpha=0.5, color='powderblue')\n",
    "ax2.set_ylabel('Price - EMA')\n",
    "\n",
    "# Bollinger Bands\n",
    "ax3.plot(data['ClosePrice'], label='Price')\n",
    "ax3.plot(data['UpperBBand'], label='Upper band')\n",
    "ax3.plot(data['MidiBBand'], label='Middle band')\n",
    "ax3.plot(data['LowerBBand'], label='Lower band')\n",
    "ax3.set_ylabel('Bollinger Bands')\n",
    "\n",
    "# MACD\n",
    "ax4.plot(data.index, data['MACD'], label='MACD', color = 'red')\n",
    "ax4.plot(data.index, data['signal'], label='Signal Line', color='blue')\n",
    "ax4.bar(data.index, data['MACDH'], color=\"purple\", width = timedelta(hours=4))\n",
    "ax4.set_ylabel('MACD')\n",
    "\n",
    "# RSI\n",
    "ax5.plot(data.index, [70] * len(data.index), label='overbought')\n",
    "ax5.plot(data.index, [30] * len(data.index), label='oversold')\n",
    "ax5.plot(data.index, data['rsi'], label='rsi')\n",
    "ax5.set_ylabel('RSI')\n",
    "\n",
    "# ADX\n",
    "ax6.plot(data.index, data[['DI+', 'DI-']])\n",
    "ax6.plot(data.index, data[['ADX']], color='purple', linestyle='dashed')\n",
    "ax6.plot(data.index, [25] * len(data.index), color = 'red')\n",
    "ax6.set_ylabel('ADX')\n",
    "\n",
    "# Volume\n",
    "ax7.plot(data.index, data['Volume'], color='purple')\n",
    "ax7.set_ylabel('Volume')\n",
    "\n",
    "fig.tight_layout()"
   ]
  },
  {
   "cell_type": "markdown",
   "metadata": {},
   "source": [
    "## Backtest Strategy"
   ]
  },
  {
   "cell_type": "code",
   "execution_count": null,
   "metadata": {},
   "outputs": [],
   "source": [
    "import bt\n",
    "\n",
    "# Get the price data\n",
    "price_data = data[['ClosePrice']].copy()"
   ]
  },
  {
   "cell_type": "code",
   "execution_count": null,
   "metadata": {},
   "outputs": [],
   "source": [
    "from backtest_utils import get_cross_signal, signal_strategy\n",
    "\n",
    "signal = get_cross_signal(data[['SMA50']].copy(), data[['SMA200']].copy())\n",
    "bt_backtest = signal_strategy(price_data.copy(), signal, 'sma_cross')\n",
    "\n",
    "bt_result = bt.run(bt_backtest)\n",
    "# Plot the backtest result\n",
    "bt_result.plot(title='Backtest result')\n",
    "plt.show()"
   ]
  },
  {
   "cell_type": "code",
   "execution_count": null,
   "metadata": {},
   "outputs": [],
   "source": [
    "from backtest_utils import get_cross_signal, signal_strategy\n",
    "\n",
    "signal = get_cross_signal(data[['EMA50']].copy(), data[['EMA200']].copy())\n",
    "bt_backtest = signal_strategy(price_data.copy(), signal, 'ema_cross')\n",
    "\n",
    "bt_result = bt.run(bt_backtest)\n",
    "# Plot the backtest result\n",
    "bt_result.plot(title='Backtest result')\n",
    "plt.show()"
   ]
  },
  {
   "cell_type": "code",
   "execution_count": null,
   "metadata": {},
   "outputs": [],
   "source": [
    "from backtest_utils import get_rsi_signal, signal_strategy\n",
    "\n",
    "signal = get_rsi_signal(data[['rsi']].copy())\n",
    "\n",
    "# Merge the data\n",
    "combined_df = bt.merge(signal, price_data)\n",
    "combined_df.columns = ['signal', 'Price']\n",
    "combined_df.plot(secondary_y=['signal'])\n",
    "plt.show()"
   ]
  },
  {
   "cell_type": "code",
   "execution_count": null,
   "metadata": {},
   "outputs": [],
   "source": [
    "bt_backtest = signal_strategy(price_data.copy(), signal, 'rsi_mr')\n",
    "\n",
    "bt_result = bt.run(bt_backtest)\n",
    "# Plot the backtest result\n",
    "bt_result.plot(title='Backtest result')\n",
    "plt.show()"
   ]
  },
  {
   "cell_type": "code",
   "execution_count": null,
   "metadata": {},
   "outputs": [],
   "source": [
    "bt_result.display()"
   ]
  },
  {
   "cell_type": "code",
   "execution_count": null,
   "metadata": {},
   "outputs": [],
   "source": [
    "bt_result.get_transactions()"
   ]
  },
  {
   "cell_type": "code",
   "execution_count": null,
   "metadata": {},
   "outputs": [],
   "source": [
    "from backtest_utils import get_macd_signal, signal_strategy\n",
    "\n",
    "signal = get_macd_signal(data[['signal']].copy(), data[['MACD']].copy())\n",
    "\n",
    "# Merge the data\n",
    "combined_df = bt.merge(signal, price_data)\n",
    "combined_df.columns = ['signal', 'Price']\n",
    "combined_df.plot(secondary_y=['signal'])\n",
    "plt.show()\n"
   ]
  },
  {
   "cell_type": "code",
   "execution_count": null,
   "metadata": {},
   "outputs": [],
   "source": [
    "bt_backtest = signal_strategy(price_data.copy(), signal, 'macd')\n",
    "\n",
    "bt_result = bt.run(bt_backtest)\n",
    "# Plot the backtest result\n",
    "bt_result.plot(title='Backtest result')\n",
    "plt.show()"
   ]
  },
  {
   "cell_type": "code",
   "execution_count": null,
   "metadata": {},
   "outputs": [],
   "source": [
    "bt_result.display()"
   ]
  },
  {
   "cell_type": "code",
   "execution_count": null,
   "metadata": {},
   "outputs": [],
   "source": [
    "bt_result.get_transactions()"
   ]
  },
  {
   "cell_type": "code",
   "execution_count": null,
   "metadata": {},
   "outputs": [],
   "source": [
    "from backtest_utils import signal_above_strategy, buy_and_hold_strategy\n",
    "\n",
    "# Create signal strategy backtest\n",
    "sma5 = signal_above_strategy(price_data.copy(), data[['SMA5']].copy(), name='SMA5')\n",
    "sma30 = signal_above_strategy(price_data.copy(), data[['SMA30']].copy(), name='SMA30')\n",
    "sma50 = signal_above_strategy(price_data.copy(), data[['SMA50']].copy(), name='SMA50')\n",
    "\n",
    "# Create benchmark strategy backtest\n",
    "benchmark = buy_and_hold_strategy(price_data.copy(), name='benchmark')"
   ]
  },
  {
   "cell_type": "code",
   "execution_count": null,
   "metadata": {},
   "outputs": [],
   "source": [
    "# Run all backtests and plot the resutls\n",
    "#bt_results = bt.run(macd_bt, sma5, sma30, sma50, benchmark)\n",
    "bt_results = bt.run(sma5, sma30, sma50, benchmark)\n",
    "bt_results.plot(title='Strategy benchmarking')\n",
    "plt.show()"
   ]
  },
  {
   "cell_type": "code",
   "execution_count": null,
   "metadata": {},
   "outputs": [],
   "source": [
    "# Plot the backtest result\n",
    "bt_results.plot(title='Backtest result')\n",
    "plt.show()\n",
    "\n",
    "# Get the lookback returns\n",
    "lookback_returns = bt_results.display_lookback_returns()\n",
    "print(lookback_returns)"
   ]
  },
  {
   "cell_type": "markdown",
   "metadata": {},
   "source": [
    "## Real-time trade"
   ]
  },
  {
   "cell_type": "code",
   "execution_count": null,
   "metadata": {},
   "outputs": [],
   "source": [
    "from binance.client import Client\n",
    "\n",
    "from datetime import datetime\n",
    "import time, json"
   ]
  },
  {
   "cell_type": "code",
   "execution_count": null,
   "metadata": {},
   "outputs": [],
   "source": [
    "from binance_utils import get_twm\n",
    "from binance import ThreadedWebsocketManager\n",
    "\n",
    "from datetime import datetime\n",
    "import time, json\n",
    "\n",
    "df_real_time = pd.DataFrame(columns=[\n",
    "        'OpenTime',\n",
    "        'OpenPrice', \n",
    "        'HighPrice', \n",
    "        'LowPrice', \n",
    "        'ClosePrice', \n",
    "        'Volume'])\n",
    "\n",
    "symbol = 'BTCUSDT'\n",
    "\n",
    "twm = get_twm()\n",
    "twm.start()\n",
    "\n",
    "def handle_socket_message(msg):\n",
    "    #print(f\"message type: {msg['e']}\")\n",
    "    #print(msg)\n",
    "\n",
    "    global df_real_time\n",
    "\n",
    "    candle = msg['k']\n",
    "    timestamp = candle['t'] / 1000\n",
    "    timestamp = datetime.fromtimestamp(timestamp).strftime('%Y-%m-%d %H:%M:%S')\n",
    "\n",
    "    is_candle_closed = candle['x']\n",
    "\n",
    "    # Print this amount\n",
    "    print(\"{} - Open: {} High: {} Low: {} Close: {} Volume: {}\".format(\n",
    "        timestamp, \n",
    "        candle['o'], \n",
    "        candle['h'], \n",
    "        candle['l'], \n",
    "        candle['c'],\n",
    "        candle['v']))\n",
    "    \n",
    "    if is_candle_closed:\n",
    "        print('candle closed')\n",
    "\n",
    "        new_row = {\n",
    "            'OpenTime':timestamp, \n",
    "            'OpenPrice':candle['o'], \n",
    "            'HighPrice':candle['h'], \n",
    "            'LowPrice':candle['l'], \n",
    "            'ClosePrice':candle['c'], \n",
    "            'Volume':candle['v']}\n",
    "\n",
    "        #append row to the dataframe\n",
    "        df_real_time = df_real_time.append(new_row, ignore_index=True)\n",
    "\n",
    "twm.start_kline_socket(callback=handle_socket_message, symbol=symbol, interval='1m')\n",
    "\n",
    "# let some data flow..\n",
    "time.sleep(160)\n",
    "\n",
    "twm.stop()\n",
    "\n",
    "df_real_time.head()"
   ]
  },
  {
   "cell_type": "code",
   "execution_count": null,
   "metadata": {},
   "outputs": [],
   "source": [
    "from binance_utils import init\n",
    "from binance.client import Client\n",
    "\n",
    "client = init()\n",
    "candles = client.get_klines(symbol='BTCUSDT', interval=Client.KLINE_INTERVAL_1HOUR)"
   ]
  }
 ],
 "metadata": {
  "interpreter": {
   "hash": "31f2aee4e71d21fbe5cf8b01ff0e069b9275f58929596ceb00d14d90e3e16cd6"
  },
  "kernelspec": {
   "display_name": "Python 3.8.10 64-bit",
   "name": "python3"
  },
  "language_info": {
   "name": "python",
   "version": ""
  },
  "orig_nbformat": 2
 },
 "nbformat": 4,
 "nbformat_minor": 2
}