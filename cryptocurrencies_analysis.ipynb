{
 "cells": [
  {
   "cell_type": "code",
   "execution_count": null,
   "metadata": {},
   "outputs": [],
   "source": [
    "%load_ext autoreload\n",
    "%autoreload 2"
   ]
  },
  {
   "cell_type": "code",
   "execution_count": null,
   "metadata": {},
   "outputs": [],
   "source": [
    "#import sys\n",
    "#!{sys.executable} -m pip install -r requirements.txt"
   ]
  },
  {
   "cell_type": "code",
   "execution_count": null,
   "metadata": {},
   "outputs": [],
   "source": [
    "import numpy as np\n",
    "import pandas as pd\n",
    "import matplotlib.pyplot as plt\n",
    "from datetime import datetime, timedelta, date\n",
    "from dateutil.relativedelta import relativedelta\n",
    "import plotly.graph_objects as go\n",
    "\n",
    "# just set the seed for the random number generator\n",
    "#np.random.seed(107)"
   ]
  },
  {
   "cell_type": "code",
   "execution_count": null,
   "metadata": {},
   "outputs": [],
   "source": [
    "# Change...\n",
    "pair = 'BTCUSDT'\n",
    "\n",
    "# interval used to compute indicators and backtest analysis\n",
    "# valid strategy intervals - 1min, 3min, 5min, 15min, 30min, 1H, 2H, 4H, 6H, 8H, 12H, 1D, 3D, 1W, 1M\n",
    "strategy_interval = '1D'\n",
    "\n",
    "# date to start/end analysis\n",
    "# Use '' for not to limit the data\n",
    "#dt_start_analysis = '2021-09-09' # BTC\n",
    "#dt_start_analysis = '2021-11-15' # CHZ\n",
    "#dt_start_analysis = '2021-12-10' # MATIC\n",
    "#dt_start_analysis = '2021-11-28' # ENJ\n",
    "#dt_start_analysis = '2021-05-19' # ADA\n",
    "#dt_start_analysis = '2022-02-15'\n",
    "\n",
    "# current year\n",
    "#dt_start_analysis = date(date.today().year, 1, 1)\n",
    "# months before\n",
    "dt_start_analysis = date.today() - relativedelta(months=6)\n",
    "dt_end_analysis = ''\n"
   ]
  },
  {
   "cell_type": "code",
   "execution_count": null,
   "metadata": {},
   "outputs": [],
   "source": [
    "from binance_utils import init\n",
    "from trade_utils import get_data\n",
    "\n",
    "client = init()\n",
    "data = get_data(client, pair, strategy_interval)"
   ]
  },
  {
   "cell_type": "code",
   "execution_count": null,
   "metadata": {},
   "outputs": [],
   "source": [
    "data.shape"
   ]
  },
  {
   "cell_type": "code",
   "execution_count": null,
   "metadata": {},
   "outputs": [],
   "source": [
    "data.info()"
   ]
  },
  {
   "cell_type": "code",
   "execution_count": null,
   "metadata": {},
   "outputs": [],
   "source": [
    "data.head()"
   ]
  },
  {
   "cell_type": "code",
   "execution_count": null,
   "metadata": {},
   "outputs": [],
   "source": [
    "data.tail()"
   ]
  },
  {
   "cell_type": "code",
   "execution_count": null,
   "metadata": {},
   "outputs": [],
   "source": [
    "data.sample(10)"
   ]
  },
  {
   "cell_type": "code",
   "execution_count": null,
   "metadata": {},
   "outputs": [],
   "source": [
    "from technical_indicator_utils import get_sma, get_ema, get_macd, get_rsi, get_adx, get_bbands, get_rvi, get_momentum, get_hurst\n",
    "from trade_utils import get_num_daily_bars\n",
    "\n",
    "daily_bars = get_num_daily_bars(data)\n",
    "\n",
    "# Momentum\n",
    "data['Momentum'] = get_sma(get_momentum(data['ClosePrice'], daily_bars*14), 14)\n",
    "\n",
    "# Hurst\n",
    "data['Hurst'] = get_hurst(data['ClosePrice'], window=100)\n",
    "\n",
    "# Calculate returns\n",
    "data['Returns'] = data['ClosePrice'].pct_change() * 100 # pct_change() = percent change from previous price\n",
    "data['Returns5'] = data['ClosePrice'].pct_change(5) * 100 # change from 5 previous price\n",
    "data['DailyReturns'] = data['ClosePrice'].pct_change(daily_bars) * 100 # daily change\n",
    "data['MonthlyReturns'] = data['ClosePrice'].pct_change(daily_bars*30) * 100 # monthly change\n",
    "\n",
    "# Volatility\n",
    "data['MonthlyVolatility'] = data.rolling(daily_bars*30, min_periods = daily_bars*30)['Returns'].std()\n",
    "\n",
    "# SMA\n",
    "data['SMA5'] = get_sma(data['ClosePrice'], 5)\n",
    "data['SMA10'] = get_sma(data['ClosePrice'], 10)\n",
    "data['SMA20'] = get_sma(data['ClosePrice'], 20)\n",
    "data['SMA30'] = get_sma(data['ClosePrice'], 30)\n",
    "data['SMA50'] = get_sma(data['ClosePrice'], 50)\n",
    "data['SMA100'] = get_sma(data['ClosePrice'], 100)\n",
    "data['SMA200'] = get_sma(data['ClosePrice'], 200)\n",
    "\n",
    "# EMA\n",
    "data['EMA5'] = get_ema(data['ClosePrice'], 5)\n",
    "data['EMA10'] = get_ema(data['ClosePrice'], 10)\n",
    "data['EMA20'] = get_ema(data['ClosePrice'], 20)\n",
    "data['EMA30'] = get_ema(data['ClosePrice'], 30)\n",
    "data['EMA50'] = get_ema(data['ClosePrice'], 50)\n",
    "data['EMA100'] = get_ema(data['ClosePrice'], 100)\n",
    "data['EMA200'] = get_ema(data['ClosePrice'], 200)\n",
    "\n",
    "# MACD\n",
    "data['MACD'], data['MACDSignal'], data['MACDHist'] = get_macd(data['ClosePrice'])\n",
    "\n",
    "# RVI\n",
    "data['RVI'], data['RVISignal'] = get_rvi(data['OpenPrice'], data['ClosePrice'], data['LowPrice'], data['HighPrice'])\n",
    "\n",
    "# RSI\n",
    "data['RSI'] = get_rsi(data.ClosePrice)\n",
    "data['RSI_10'] = get_rsi(data.ClosePrice, period=10)\n",
    "\n",
    "# ADX\n",
    "data['DI+'], data['DI-'], data['ADX'] = get_adx(data['HighPrice'], data['LowPrice'], data['ClosePrice'])\n",
    "\n",
    "# Bollinger Bands\n",
    "data['UpperBBand'], data['MidiBBand'], data['LowerBBand'] = get_bbands(data['ClosePrice'])"
   ]
  },
  {
   "cell_type": "code",
   "execution_count": null,
   "metadata": {},
   "outputs": [],
   "source": [
    "#limit data to plot\n",
    "if dt_end_analysis == '' and dt_start_analysis != '':\n",
    "    data = data[dt_start_analysis:]\n",
    "elif dt_end_analysis != '' and dt_start_analysis == '':\n",
    "    data = data[:dt_end_analysis]\n",
    "elif dt_end_analysis != '' and dt_start_analysis != '':\n",
    "    data = data[dt_start_analysis:dt_end_analysis]"
   ]
  },
  {
   "cell_type": "code",
   "execution_count": null,
   "metadata": {},
   "outputs": [],
   "source": [
    "from technical_indicator_utils import get_fibonacci_retracement_levels\n",
    "\n",
    "# Fibonacci retracement\n",
    "fib_levels = get_fibonacci_retracement_levels(data['ClosePrice'].max(), data['ClosePrice'].min())"
   ]
  },
  {
   "cell_type": "code",
   "execution_count": null,
   "metadata": {},
   "outputs": [],
   "source": [
    "# Plot the histogram\n",
    "data['Returns'].hist(bins=100, color='red')\n",
    "plt.ylabel('Frequency')\n",
    "plt.xlabel('Return')\n",
    "plt.title('Return histogram')\n",
    "plt.show()"
   ]
  },
  {
   "cell_type": "code",
   "execution_count": null,
   "metadata": {},
   "outputs": [],
   "source": [
    "#plt.style.use('fivethirtyeight')"
   ]
  },
  {
   "cell_type": "code",
   "execution_count": null,
   "metadata": {},
   "outputs": [],
   "source": [
    "fig = go.Figure(data=[go.Candlestick(x=data.index,\n",
    "                open=data['OpenPrice'],\n",
    "                high=data['HighPrice'],\n",
    "                low=data['LowPrice'],\n",
    "                close=data['ClosePrice'])])\n",
    "\n",
    "fig.update_layout(xaxis_rangeslider_visible=False, width=1400, height=800)\n",
    "fig.show()"
   ]
  },
  {
   "cell_type": "code",
   "execution_count": null,
   "metadata": {},
   "outputs": [],
   "source": [
    "fig, (ax1, ax2, ax3, ax4, ax5, ax6, ax7, ax8) = plt.subplots(nrows=8, sharex=True, figsize=(21, 28), gridspec_kw = {'height_ratios':[3, 3, 3, 1, 1, 1, 1, 1]})\n",
    "\n",
    "# Price x SMA\n",
    "ax1.plot(data.index, data[['ClosePrice', 'SMA30', 'SMA100']])\n",
    "# Fibonacci retracement\n",
    "ax1.axhspan(fib_levels['level1'], fib_levels['price_min'], alpha=0.4, color='lightsalmon')\n",
    "ax1.axhspan(fib_levels['level2'], fib_levels['level1'], alpha=0.5, color='palegoldenrod')\n",
    "ax1.axhspan(fib_levels['level3'], fib_levels['level2'], alpha=0.5, color='palegreen')\n",
    "ax1.axhspan(fib_levels['price_max'], fib_levels['level3'], alpha=0.5, color='powderblue')\n",
    "ax1.set_ylabel('Price - SMA')\n",
    "\n",
    "# Price x EMA\n",
    "ax2.plot(data.index, data[['ClosePrice', 'EMA30', 'EMA100']])\n",
    "# Fibonacci retracement\n",
    "ax2.axhspan(fib_levels['level1'], fib_levels['price_min'], alpha=0.4, color='lightsalmon')\n",
    "ax2.axhspan(fib_levels['level2'], fib_levels['level1'], alpha=0.5, color='palegoldenrod')\n",
    "ax2.axhspan(fib_levels['level3'], fib_levels['level2'], alpha=0.5, color='palegreen')\n",
    "ax2.axhspan(fib_levels['price_max'], fib_levels['level3'], alpha=0.5, color='powderblue')\n",
    "ax2.set_ylabel('Price - EMA')\n",
    "\n",
    "# Bollinger Bands\n",
    "ax3.plot(data['ClosePrice'], label='Price')\n",
    "ax3.plot(data['UpperBBand'], label='Upper band')\n",
    "ax3.plot(data['MidiBBand'], label='Middle band')\n",
    "ax3.plot(data['LowerBBand'], label='Lower band')\n",
    "ax3.legend()\n",
    "ax3.set_ylabel('Bollinger Bands')\n",
    "\n",
    "# MACD\n",
    "ax4.plot(data.index, data['MACD'], label='MACD', color = 'red')\n",
    "ax4.bar(data.index, data['MACDHist'], label='Hist', color=\"purple\", width = timedelta(hours=1))\n",
    "ax4.plot(data.index, data['MACDSignal'], label='Signal', color='blue')\n",
    "ax4.legend()\n",
    "ax4.set_ylabel('MACD')\n",
    "\n",
    "# RVI\n",
    "ax5.plot(data.index, data['RVI'], label='RVI', color = 'red')\n",
    "ax5.plot(data.index, data['RVISignal'], label='Signal', color='blue')\n",
    "ax5.legend()\n",
    "ax5.set_ylabel('RVI')\n",
    "\n",
    "# RSI\n",
    "ax6.plot(data.index, [70] * len(data.index), label='overbought')\n",
    "ax6.plot(data.index, [30] * len(data.index), label='oversold')\n",
    "ax6.plot(data.index, data['RSI'], label='RSI')\n",
    "ax6.legend()\n",
    "ax6.set_ylabel('RSI')\n",
    "\n",
    "# DMI\n",
    "ax7.plot(data.index, data[['DI+', 'DI-']])\n",
    "ax7.plot(data.index, data[['ADX']], color='red')\n",
    "ax7.plot(data.index, [25] * len(data.index), color = 'purple', linestyle='dashed')\n",
    "ax7.set_ylabel('DMI')\n",
    "\n",
    "# Volume\n",
    "# make bar plots and color differently depending on up/down for the day\n",
    "pos = data['OpenPrice'] - data['ClosePrice'] < 0\n",
    "neg = data['OpenPrice'] - data['ClosePrice'] > 0\n",
    "ax8.bar(data.index[pos], data[pos]['Volume'], color='green', width = timedelta(hours=1))\n",
    "ax8.bar(data.index[neg], data[neg]['Volume'], color='red', width = timedelta(hours=1))\n",
    "\n",
    "#ax7.bar(data.index, data['Volume'] / 1000000, width = timedelta(hours=4))\n",
    "ax8.set_ylabel('Volume')\n",
    "\n",
    "fig.tight_layout()"
   ]
  },
  {
   "cell_type": "markdown",
   "metadata": {},
   "source": [
    "## Backtest Strategy"
   ]
  },
  {
   "cell_type": "code",
   "execution_count": null,
   "metadata": {},
   "outputs": [],
   "source": [
    "import bt\n",
    "\n",
    "# Get the price data\n",
    "price_data = data[['ClosePrice']].copy()"
   ]
  },
  {
   "cell_type": "code",
   "execution_count": null,
   "metadata": {},
   "outputs": [],
   "source": [
    "from strategy_utils import get_cross_signal\n",
    "from backtest_utils import signal_strategy\n",
    "\n",
    "signal = get_cross_signal(data[['SMA50']].copy(), data[['SMA200']].copy())\n",
    "bt_sma_cross = signal_strategy(price_data.copy(), signal, 'sma_cross')"
   ]
  },
  {
   "cell_type": "code",
   "execution_count": null,
   "metadata": {},
   "outputs": [],
   "source": [
    "from strategy_utils import get_cross_signal\n",
    "from backtest_utils import signal_strategy\n",
    "\n",
    "signal = get_cross_signal(data[['EMA50']].copy(), data[['EMA200']].copy())\n",
    "bt_ema_cross = signal_strategy(price_data.copy(), signal, 'ema_cross')"
   ]
  },
  {
   "cell_type": "code",
   "execution_count": null,
   "metadata": {},
   "outputs": [],
   "source": [
    "from strategy_utils import get_rsi_signal\n",
    "from backtest_utils import signal_strategy\n",
    "\n",
    "overbought_values = [60, 65, 70]\n",
    "oversold_values = [40, 35, 30]\n",
    "\n",
    "signal = None\n",
    "bt_rsi = None\n",
    "bt_result = None\n",
    "overbought_value = 0\n",
    "oversold_value = 0\n",
    "\n",
    "total_return_best = None\n",
    "for i in range(0, len(overbought_values)):\n",
    "    for j in range(0, len(oversold_values)):\n",
    "        strategy_name = 'rsi' + str(overbought_values[i]) + '_' + str(oversold_values[j])\n",
    "\n",
    "        signal_tmp = get_rsi_signal(data[['RSI']].copy(), overbought_value=overbought_values[i], oversold_value=oversold_values[j])\n",
    "        bt_rsi_tmp = signal_strategy(price_data.copy(), signal_tmp, strategy_name)\n",
    "        bt_result_tmp = bt.run(bt_rsi_tmp)\n",
    "\n",
    "        if (total_return_best is None) or (bt_result_tmp.stats.loc['total_return'].values[0] > total_return_best):\n",
    "            signal = signal_tmp\n",
    "            bt_rsi = bt_rsi_tmp\n",
    "            bt_result = bt_result_tmp\n",
    "            overbought_value = overbought_values[i] \n",
    "            oversold_value =  oversold_values[j] \n",
    "\n",
    "            total_return_best = bt_result_tmp.stats.loc['total_return'].values[0]\n",
    "\n",
    "# Merge the data\n",
    "combined_df = bt.merge(signal, price_data)\n",
    "combined_df.columns = ['signal', 'Price']\n",
    "\n",
    "fig, (ax1, ax2, ax3) = plt.subplots(nrows=3, sharex=True, figsize=(20, 8))\n",
    "\n",
    "ax1.plot(combined_df['Price'])\n",
    "ax1.scatter(combined_df[combined_df['signal'] == 1.0].index, combined_df[combined_df['signal'] == 1.0]['Price'], label = 'Buy', marker='^', c='g')\n",
    "ax1.scatter(combined_df[combined_df['signal'] == -1.0].index, combined_df[combined_df['signal'] == -1.0]['Price'], label = 'Sell', marker='v', c='r')\n",
    "ax1.legend()\n",
    "ax1.set_ylabel('Price')\n",
    "\n",
    "ax2.plot(data.index, [overbought_value] * len(data.index), label='overbought')\n",
    "ax2.plot(data.index, [oversold_value] * len(data.index), label='oversold')\n",
    "ax2.plot(data.index, data['RSI'], label='RSI')\n",
    "ax2.legend()\n",
    "ax2.set_ylabel('RSI')\n",
    "\n",
    "ax3.plot(bt_result.prices)\n",
    "ax3.set_ylabel('Result')\n",
    "\n",
    "plt.xticks(rotation=45)\n",
    "plt.show()"
   ]
  },
  {
   "cell_type": "code",
   "execution_count": null,
   "metadata": {},
   "outputs": [],
   "source": [
    "from strategy_utils import get_rsi_return_signal\n",
    "from backtest_utils import signal_strategy\n",
    "\n",
    "overbought_value = 65\n",
    "oversold_value = 35\n",
    "\n",
    "signal = get_rsi_return_signal(data[['RSI']].copy(), overbought_value=overbought_value, oversold_value=oversold_value)\n",
    "\n",
    "bt_rsi_return = signal_strategy(price_data.copy(), signal, 'rsi_return')\n",
    "bt_result = bt.run(bt_rsi_return)\n",
    "\n",
    "# Merge the data\n",
    "combined_df = bt.merge(signal, price_data)\n",
    "combined_df.columns = ['signal', 'Price']\n",
    "\n",
    "fig, (ax1, ax2, ax3) = plt.subplots(nrows=3, sharex=True, figsize=(20, 8))\n",
    "\n",
    "ax1.plot(combined_df['Price'])\n",
    "ax1.scatter(combined_df[combined_df['signal'] == 1.0].index, combined_df[combined_df['signal'] == 1.0]['Price'], label = 'Buy', marker='^', c='g')\n",
    "ax1.scatter(combined_df[combined_df['signal'] == -1.0].index, combined_df[combined_df['signal'] == -1.0]['Price'], label = 'Sell', marker='v', c='r')\n",
    "ax1.legend()\n",
    "ax1.set_ylabel('Price')\n",
    "\n",
    "ax2.plot(data.index, [overbought_value] * len(data.index), label='overbought')\n",
    "ax2.plot(data.index, [oversold_value] * len(data.index), label='oversold')\n",
    "ax2.plot(data.index, data['RSI'], label='RSI')\n",
    "ax2.legend()\n",
    "ax2.set_ylabel('RSI')\n",
    "\n",
    "ax3.plot(bt_result.prices)\n",
    "ax3.set_ylabel('Result')\n",
    "\n",
    "plt.xticks(rotation=45)\n",
    "plt.show()"
   ]
  },
  {
   "cell_type": "code",
   "execution_count": null,
   "metadata": {},
   "outputs": [],
   "source": [
    "from strategy_utils import get_rsi_enter_signal\n",
    "from backtest_utils import signal_strategy\n",
    "\n",
    "overbought_value = 65\n",
    "oversold_value = 35\n",
    "\n",
    "signal = get_rsi_enter_signal(data[['RSI']].copy(), overbought_value=overbought_value, oversold_value=oversold_value)\n",
    "\n",
    "bt_rsi_return = signal_strategy(price_data.copy(), signal, 'rsi_return')\n",
    "bt_result = bt.run(bt_rsi_return)\n",
    "\n",
    "# Merge the data\n",
    "combined_df = bt.merge(signal, price_data)\n",
    "combined_df.columns = ['signal', 'Price']\n",
    "\n",
    "fig, (ax1, ax2, ax3) = plt.subplots(nrows=3, sharex=True, figsize=(20, 8))\n",
    "\n",
    "ax1.plot(combined_df['Price'])\n",
    "ax1.scatter(combined_df[combined_df['signal'] == 1.0].index, combined_df[combined_df['signal'] == 1.0]['Price'], label = 'Buy', marker='^', c='g')\n",
    "ax1.scatter(combined_df[combined_df['signal'] == -1.0].index, combined_df[combined_df['signal'] == -1.0]['Price'], label = 'Sell', marker='v', c='r')\n",
    "ax1.legend()\n",
    "ax1.set_ylabel('Price')\n",
    "\n",
    "ax2.plot(data.index, [overbought_value] * len(data.index), label='overbought')\n",
    "ax2.plot(data.index, [oversold_value] * len(data.index), label='oversold')\n",
    "ax2.plot(data.index, data['RSI'], label='RSI')\n",
    "ax2.legend()\n",
    "ax2.set_ylabel('RSI')\n",
    "\n",
    "ax3.plot(bt_result.prices)\n",
    "ax3.set_ylabel('Result')\n",
    "\n",
    "plt.xticks(rotation=45)\n",
    "plt.show()"
   ]
  },
  {
   "cell_type": "code",
   "execution_count": null,
   "metadata": {},
   "outputs": [],
   "source": [
    "from strategy_utils import get_inverted_rsi_signal\n",
    "from backtest_utils import signal_strategy\n",
    "\n",
    "overbought_value = 70\n",
    "oversold_value = 30\n",
    "signal = get_inverted_rsi_signal(data[['RSI']].copy(), overbought_value=overbought_value, oversold_value=oversold_value)\n",
    "\n",
    "bt_inverted_rsi = signal_strategy(price_data.copy(), signal, 'rsi_inverted')\n",
    "bt_result = bt.run(bt_inverted_rsi)\n",
    "\n",
    "# Merge the data\n",
    "combined_df = bt.merge(signal, price_data)\n",
    "combined_df.columns = ['signal', 'Price']\n",
    "\n",
    "fig, (ax1, ax2, ax3) = plt.subplots(nrows=3, sharex=True, figsize=(20, 8))\n",
    "\n",
    "ax1.plot(combined_df['Price'])\n",
    "ax1.scatter(combined_df[combined_df['signal'] == 1.0].index, combined_df[combined_df['signal'] == 1.0]['Price'], label = 'Buy', marker='^', c='g')\n",
    "ax1.scatter(combined_df[combined_df['signal'] == -1.0].index, combined_df[combined_df['signal'] == -1.0]['Price'], label = 'Sell', marker='v', c='r')\n",
    "ax1.legend()\n",
    "ax1.set_ylabel('Price')\n",
    "\n",
    "ax2.plot(data.index, [overbought_value] * len(data.index), label='overbought')\n",
    "ax2.plot(data.index, [oversold_value] * len(data.index), label='oversold')\n",
    "ax2.plot(data.index, data['RSI'], label='RSI')\n",
    "ax2.legend()\n",
    "ax2.set_ylabel('RSI')\n",
    "\n",
    "ax3.plot(bt_result.prices)\n",
    "ax3.set_ylabel('Result')\n",
    "\n",
    "plt.xticks(rotation=45)\n",
    "plt.show()"
   ]
  },
  {
   "cell_type": "code",
   "execution_count": null,
   "metadata": {},
   "outputs": [],
   "source": [
    "###\n",
    "from strategy_utils import get_dmi_signal\n",
    "from backtest_utils import signal_strategy\n",
    "\n",
    "signal = get_dmi_signal(data[['DI+']].copy(), data[['DI-']].copy(), data[['ADX']].copy())\n",
    "\n",
    "bt_dmi = signal_strategy(price_data.copy(), signal, 'dmi')\n",
    "bt_result = bt.run(bt_dmi)\n",
    "\n",
    "# Merge the data\n",
    "combined_df = bt.merge(signal, price_data)\n",
    "combined_df.columns = ['signal', 'Price']\n",
    "\n",
    "fig, (ax1, ax2, ax3) = plt.subplots(nrows=3, sharex=True, figsize=(20, 8))\n",
    "\n",
    "ax1.plot(combined_df['Price'])\n",
    "ax1.scatter(combined_df[combined_df['signal'] == 1.0].index, combined_df[combined_df['signal'] == 1.0]['Price'], label = 'Buy', marker='^', c='g')\n",
    "ax1.scatter(combined_df[combined_df['signal'] == -1.0].index, combined_df[combined_df['signal'] == -1.0]['Price'], label = 'Sell', marker='v', c='r')\n",
    "ax1.legend()\n",
    "ax1.set_ylabel('Price')\n",
    "\n",
    "ax2.plot(data.index, data[['DI+', 'DI-']])\n",
    "ax2.plot(data.index, data[['ADX']], color='red')\n",
    "ax2.plot(data.index, [25] * len(data.index), color = 'purple', linestyle='dashed')\n",
    "ax2.set_ylabel('DMI')\n",
    "\n",
    "ax3.plot(bt_result.prices)\n",
    "ax3.set_ylabel('Result')\n",
    "\n",
    "plt.xticks(rotation=45)\n",
    "plt.show()"
   ]
  },
  {
   "cell_type": "code",
   "execution_count": null,
   "metadata": {},
   "outputs": [],
   "source": [
    "from strategy_utils import get_rsi_adx_signal\n",
    "from backtest_utils import signal_strategy\n",
    "\n",
    "signal = get_rsi_adx_signal(data[['RSI']].copy(), data[['ADX']].copy(), data[['DI+']].copy(), data[['DI-']].copy(), overbought_value=70.0, oversold_value=30.0)\n",
    "\n",
    "# Merge the data\n",
    "combined_df = bt.merge(signal, price_data)\n",
    "combined_df.columns = ['signal', 'Price']\n",
    "combined_df.plot(secondary_y=['signal'])\n",
    "plt.show()"
   ]
  },
  {
   "cell_type": "code",
   "execution_count": null,
   "metadata": {},
   "outputs": [],
   "source": [
    "bt_rsi_adx = signal_strategy(price_data.copy(), signal, 'rsi_adx')\n",
    "\n",
    "bt_result = bt.run(bt_rsi_adx)\n",
    "# Plot the backtest result\n",
    "bt_result.plot(title='Backtest result')\n",
    "plt.show()"
   ]
  },
  {
   "cell_type": "code",
   "execution_count": null,
   "metadata": {},
   "outputs": [],
   "source": [
    "from strategy_utils import get_macd_signal\n",
    "from backtest_utils import signal_strategy\n",
    "\n",
    "signal = get_macd_signal(data[['MACDSignal']].copy(), data[['MACD']].copy())\n",
    "\n",
    "# Merge the data\n",
    "combined_df = bt.merge(signal, price_data)\n",
    "combined_df.columns = ['signal', 'Price']\n",
    "combined_df.plot(secondary_y=['signal'])\n",
    "plt.show()"
   ]
  },
  {
   "cell_type": "code",
   "execution_count": null,
   "metadata": {},
   "outputs": [],
   "source": [
    "plt.figure(figsize=(12,5))\n",
    "plt.xticks(rotation=45)\n",
    "\n",
    "plt.plot(combined_df['Price'])\n",
    "plt.scatter(combined_df[combined_df['signal'] == 1.0].index, combined_df[combined_df['signal'] == 1.0]['Price'], label = 'Buy', marker='^', c='g')\n",
    "plt.scatter(combined_df[combined_df['signal'] == -1.0].index, combined_df[combined_df['signal'] == -1.0]['Price'], label = 'Sell', marker='v', c='r')\n",
    "\n",
    "plt.title('Price Chart & Historical Trades', fontweight=\"bold\")\n",
    "plt.legend()\n",
    "plt.show()"
   ]
  },
  {
   "cell_type": "code",
   "execution_count": null,
   "metadata": {},
   "outputs": [],
   "source": [
    "bt_macd = signal_strategy(price_data.copy(), signal, 'macd')\n",
    "\n",
    "bt_result = bt.run(bt_macd)\n",
    "# Plot the backtest result\n",
    "bt_result.plot(title='Backtest result')\n",
    "plt.show()"
   ]
  },
  {
   "cell_type": "code",
   "execution_count": null,
   "metadata": {},
   "outputs": [],
   "source": [
    "from strategy_utils import get_macd_rvi_signal\n",
    "from backtest_utils import signal_strategy\n",
    "\n",
    "signal = get_macd_rvi_signal(data[['MACDSignal']].copy(), data[['MACD']].copy(), data[['RVISignal']].copy(), data[['RVI']].copy())\n",
    "\n",
    "# Merge the data\n",
    "combined_df = bt.merge(signal, price_data)\n",
    "combined_df.columns = ['signal', 'Price']\n",
    "combined_df.plot(secondary_y=['signal'])\n",
    "plt.show()"
   ]
  },
  {
   "cell_type": "code",
   "execution_count": null,
   "metadata": {},
   "outputs": [],
   "source": [
    "bt_macd_rvi = signal_strategy(price_data.copy(), signal, 'macd_rvi')\n",
    "\n",
    "bt_result = bt.run(bt_macd_rvi)\n",
    "# Plot the backtest result\n",
    "bt_result.plot(title='Backtest result')\n",
    "plt.show()"
   ]
  },
  {
   "cell_type": "code",
   "execution_count": null,
   "metadata": {},
   "outputs": [],
   "source": [
    "from strategy_utils import get_sma_macd_signal\n",
    "from backtest_utils import signal_strategy\n",
    "\n",
    "signal = get_sma_macd_signal(data[['ClosePrice']].copy(), data[['SMA50']].copy(), data[['SMA100']].copy(), data[['MACD']].copy())\n",
    "\n",
    "# Merge the data\n",
    "combined_df = bt.merge(signal, price_data)\n",
    "combined_df.columns = ['signal', 'Price']\n",
    "combined_df.plot(secondary_y=['signal'])\n",
    "plt.show()"
   ]
  },
  {
   "cell_type": "code",
   "execution_count": null,
   "metadata": {},
   "outputs": [],
   "source": [
    "bt_sma_macd = signal_strategy(price_data.copy(), signal, 'sma_macd')\n",
    "\n",
    "bt_result = bt.run(bt_sma_macd)\n",
    "# Plot the backtest result\n",
    "bt_result.plot(title='Backtest result')\n",
    "plt.show()"
   ]
  },
  {
   "cell_type": "code",
   "execution_count": null,
   "metadata": {},
   "outputs": [],
   "source": [
    "from strategy_utils import get_adx_macd_signal\n",
    "from backtest_utils import signal_strategy\n",
    "\n",
    "signal = get_adx_macd_signal(data[['MACD']].copy(), data[['DI+']].copy(), data[['DI-']].copy(), data[['ADX']].copy())\n",
    "\n",
    "# Merge the data\n",
    "combined_df = bt.merge(signal, price_data)\n",
    "combined_df.columns = ['signal', 'Price']\n",
    "combined_df.plot(secondary_y=['signal'])\n",
    "plt.show()"
   ]
  },
  {
   "cell_type": "code",
   "execution_count": null,
   "metadata": {},
   "outputs": [],
   "source": [
    "bt_adx_macd = signal_strategy(price_data.copy(), signal, 'adx_macd')\n",
    "\n",
    "bt_result = bt.run(bt_adx_macd)\n",
    "# Plot the backtest result\n",
    "bt_result.plot(title='Backtest result')\n",
    "plt.show()"
   ]
  },
  {
   "cell_type": "code",
   "execution_count": null,
   "metadata": {},
   "outputs": [],
   "source": [
    "from strategy_utils import get_bbands_signal\n",
    "from backtest_utils import signal_strategy\n",
    "\n",
    "signal = get_bbands_signal(data[['ClosePrice']].copy(), data[['UpperBBand']].copy(), data[['LowerBBand']].copy())\n",
    "\n",
    "# Merge the data\n",
    "combined_df = bt.merge(signal, price_data)\n",
    "combined_df.columns = ['signal', 'Price']\n",
    "combined_df.plot(secondary_y=['signal'])\n",
    "plt.show()"
   ]
  },
  {
   "cell_type": "code",
   "execution_count": null,
   "metadata": {},
   "outputs": [],
   "source": [
    "bt_bbands = signal_strategy(price_data.copy(), signal, 'bbands')\n",
    "\n",
    "bt_result = bt.run(bt_bbands)\n",
    "# Plot the backtest result\n",
    "bt_result.plot(title='Backtest result')\n",
    "plt.show()"
   ]
  },
  {
   "cell_type": "code",
   "execution_count": null,
   "metadata": {},
   "outputs": [],
   "source": [
    "from strategy_utils import get_rsi_bbands_signal\n",
    "from backtest_utils import signal_strategy\n",
    "\n",
    "signal = get_rsi_bbands_signal(data[['ClosePrice']].copy(), data[['UpperBBand']].copy(), data[['LowerBBand']].copy(), data[['RSI_10']].copy())\n",
    "\n",
    "# Merge the data\n",
    "combined_df = bt.merge(signal, price_data)\n",
    "combined_df.columns = ['signal', 'Price']\n",
    "combined_df.plot(secondary_y=['signal'])\n",
    "plt.show()"
   ]
  },
  {
   "cell_type": "code",
   "execution_count": null,
   "metadata": {},
   "outputs": [],
   "source": [
    "title = 'RSI + BBAnds Strategy ' + pair + '-' + strategy_interval\n",
    "\n",
    "fig, (ax1, ax2, ax3) = plt.subplots(nrows=3, sharex=True, figsize=(20, 8))\n",
    "\n",
    "ax1.plot(combined_df['Price'])\n",
    "ax1.scatter(combined_df[combined_df['signal'] == 1.0].index, combined_df[combined_df['signal'] == 1.0]['Price'], label = 'Buy', marker='^', c='g')\n",
    "ax1.scatter(combined_df[combined_df['signal'] == -1.0].index, combined_df[combined_df['signal'] == -1.0]['Price'], label = 'Sell', marker='v', c='r')\n",
    "ax1.legend()\n",
    "ax1.set_ylabel('Price')\n",
    "\n",
    "ax2.plot(data['ClosePrice'], label='Price')\n",
    "ax2.plot(data['UpperBBand'], label='Upper band')\n",
    "ax2.plot(data['MidiBBand'], label='Middle band')\n",
    "ax2.plot(data['LowerBBand'], label='Lower band')\n",
    "ax2.legend()\n",
    "ax2.set_ylabel('Bollinger Bands')\n",
    "\n",
    "ax3.plot(data.index, [70] * len(data.index), label='overbought')\n",
    "ax3.plot(data.index, [30] * len(data.index), label='oversold')\n",
    "ax3.plot(data.index, data['RSI_10'], label='RSI')\n",
    "ax3.legend()\n",
    "ax3.set_ylabel('RSI')\n",
    "\n",
    "plt.xticks(rotation=45)\n",
    "plt.show()"
   ]
  },
  {
   "cell_type": "code",
   "execution_count": null,
   "metadata": {},
   "outputs": [],
   "source": [
    "bt_rsi_bbands = signal_strategy(price_data.copy(), signal, 'rsi_bbands')\n",
    "\n",
    "bt_result = bt.run(bt_rsi_bbands)\n",
    "# Plot the backtest result\n",
    "bt_result.plot(title='Backtest result')\n",
    "plt.show()"
   ]
  },
  {
   "cell_type": "code",
   "execution_count": null,
   "metadata": {},
   "outputs": [],
   "source": [
    "from backtest_utils import signal_above_strategy, buy_and_hold_strategy\n",
    "\n",
    "# Create signal strategy backtest\n",
    "bt_sma5 = signal_above_strategy(price_data.copy(), data[['SMA5']].copy(), name='SMA5')\n",
    "bt_sma10 = signal_above_strategy(price_data.copy(), data[['SMA10']].copy(), name='SMA10')\n",
    "bt_sma20 = signal_above_strategy(price_data.copy(), data[['SMA20']].copy(), name='SMA20')\n",
    "bt_sma30 = signal_above_strategy(price_data.copy(), data[['SMA30']].copy(), name='SMA30')\n",
    "bt_sma50 = signal_above_strategy(price_data.copy(), data[['SMA50']].copy(), name='SMA50')\n",
    "bt_sma100 = signal_above_strategy(price_data.copy(), data[['SMA100']].copy(), name='SMA100')\n",
    "\n",
    "# Create benchmark strategy backtest\n",
    "bt_benchmark = buy_and_hold_strategy(price_data.copy(), name='benchmark')"
   ]
  },
  {
   "cell_type": "code",
   "execution_count": null,
   "metadata": {},
   "outputs": [],
   "source": [
    "# Run all backtests and plot the resutls\n",
    "bt_results = bt.run(bt_sma5, bt_sma10, bt_sma20, bt_sma30, bt_sma50, bt_sma100, \n",
    "                    #bt_sma_cross, bt_ema_cross, bt_rsi, bt_rsi_adx, bt_macd, bt_sma_macd, bt_adx_macd, bt_bbands, bt_inverted_rsi, bt_macd_rvi,\n",
    "                    bt_rsi, bt_rsi_adx, bt_macd, bt_sma_macd, bt_adx_macd, bt_inverted_rsi, bt_macd_rvi, bt_rsi_return, bt_dmi, #bt_bbands, bt_rsi_bbands,\n",
    "                    bt_benchmark)\n",
    "# Plot results\n",
    "bt_results.plot(title='Strategy benchmarking')\n",
    "plt.show()"
   ]
  },
  {
   "cell_type": "code",
   "execution_count": null,
   "metadata": {},
   "outputs": [],
   "source": [
    "bt_results.display()"
   ]
  },
  {
   "cell_type": "code",
   "execution_count": null,
   "metadata": {},
   "outputs": [],
   "source": [
    "# Obtain all backtest stats\n",
    "resInfo = bt_results.stats\n",
    "ordered_strategies = resInfo.loc['total_return'].sort_values(ascending=False)\n",
    "print(ordered_strategies)\n",
    "\n",
    "best_strategy = ''\n",
    "if resInfo.loc['total_return'].sort_values(ascending=False).index[0] == 'benchmark':\n",
    "    best_strategy = resInfo.loc['total_return'].sort_values(ascending=False).index[1]\n",
    "else:\n",
    "    best_strategy = resInfo.loc['total_return'].sort_values(ascending=False).index[0]\n",
    "\n",
    "bt_best = bt_results.backtests[best_strategy]"
   ]
  },
  {
   "cell_type": "code",
   "execution_count": null,
   "metadata": {},
   "outputs": [],
   "source": [
    "bt_result_best = bt.run(bt_benchmark, bt_best)\n",
    "bt_result_best.plot(title='Strategy benchmarking')\n",
    "plt.show()"
   ]
  },
  {
   "cell_type": "code",
   "execution_count": null,
   "metadata": {},
   "outputs": [],
   "source": [
    "transactions_best = bt_result_best.get_transactions(strategy_name=best_strategy)\n",
    "transactions_best"
   ]
  },
  {
   "cell_type": "code",
   "execution_count": null,
   "metadata": {},
   "outputs": [],
   "source": [
    "signal_best = transactions_best.copy()\n",
    "signal_best = signal_best.reset_index()\n",
    "signal_best = signal_best[['Date', 'quantity']]\n",
    "signal_best.columns = ['OpenTime', 'signal']\n",
    "signal_best['OpenTime'] = pd.to_datetime(signal_best['OpenTime'])\n",
    "signal_best = signal_best.set_index('OpenTime')\n",
    "\n",
    "signal_best[signal_best['signal'] < 0] = -1.0\n",
    "signal_best[signal_best['signal'] > 0] = 1.0\n",
    "signal_best = price_data.join(signal_best).fillna(0.0)\n",
    "\n",
    "plt.figure(figsize=(20, 8))\n",
    "plt.xticks(rotation=45)\n",
    "\n",
    "plt.plot(signal_best['ClosePrice'])\n",
    "plt.scatter(signal_best[signal_best['signal'] == 1.0].index, signal_best[signal_best['signal'] == 1.0]['ClosePrice'], label = 'Buy', marker='^', c='g')\n",
    "plt.scatter(signal_best[signal_best['signal'] == -1.0].index, signal_best[signal_best['signal'] == -1.0]['ClosePrice'], label = 'Sell', marker='v', c='r')\n",
    "\n",
    "plt.title('Price Chart & Historical Trades', fontweight=\"bold\")\n",
    "plt.legend()\n",
    "plt.show()"
   ]
  },
  {
   "cell_type": "code",
   "execution_count": null,
   "metadata": {},
   "outputs": [],
   "source": [
    "# Plot the backtest result\n",
    "title = 'Backtest result ' + pair + '-' + strategy_interval\n",
    "bt_results.plot(title=title)\n",
    "plt.show()\n",
    "\n",
    "# Get the lookback returns\n",
    "lookback_returns = bt_results.display_lookback_returns()\n",
    "print(lookback_returns)"
   ]
  },
  {
   "cell_type": "markdown",
   "metadata": {},
   "source": [
    "# Tests"
   ]
  },
  {
   "cell_type": "code",
   "execution_count": null,
   "metadata": {},
   "outputs": [],
   "source": [
    "bt_results_test = bt.run(bt_benchmark, bt_macd, bt_rsi)\n",
    "title = 'Strategy benchmarking ' + pair + '-' + strategy_interval\n",
    "\n",
    "fig, (ax1, ax2) = plt.subplots(nrows=2, sharex=True, figsize=(20, 8))\n",
    "\n",
    "ax1.plot(bt_results_test.prices)\n",
    "ax1.legend(bt_results_test.prices.columns)\n",
    "ax2.plot(data['Hurst'])\n",
    "ax2.axhline(0.6, color='red', linestyle='--')\n",
    "ax2.axhspan(0.55, 0.45, color='red', alpha=0.3)\n",
    "#ax2.axhline(-0.1, color='red', linestyle='--')\n",
    "plt.show()\n"
   ]
  },
  {
   "cell_type": "code",
   "execution_count": null,
   "metadata": {},
   "outputs": [],
   "source": [
    "# Test combining signals\n",
    "from strategy_utils import get_macd_signal, get_rsi_signal, remove_repeated_signal\n",
    "from backtest_utils import signal_strategy\n",
    "\n",
    "treshold = 0.6\n",
    "overbought_value = 60\n",
    "oversold_value = 40\n",
    "\n",
    "signal = price_data.copy()\n",
    "signal['Hurst'] = data[['Hurst']].copy()\n",
    "signal['rsi'] = get_rsi_signal(data[['RSI']].copy(), overbought_value=overbought_value, oversold_value=oversold_value)\n",
    "signal['macd'] = get_macd_signal(data[['MACDSignal']].copy(), data[['MACD']].copy())\n",
    "\n",
    "signal['signal'] = np.where(\n",
    "    (signal['Hurst'] < treshold), signal['rsi'], signal['macd'])\n",
    "\n",
    "signal = signal[['signal']].copy()\n",
    "#remove repeated signals\n",
    "#signal = remove_repeated_signal(signal, 'signal')\n",
    "\n",
    "# Merge the data\n",
    "combined_df = bt.merge(signal[['signal']].copy(), price_data)\n",
    "combined_df.columns = ['signal', 'Price']\n",
    "\n",
    "plt.figure(figsize=(12,5))\n",
    "plt.xticks(rotation=45)\n",
    "\n",
    "plt.plot(combined_df['Price'])\n",
    "plt.scatter(combined_df[combined_df['signal'] == 1.0].index, combined_df[combined_df['signal'] == 1.0]['Price'], label = 'Buy', marker='^', c='g')\n",
    "plt.scatter(combined_df[combined_df['signal'] == -1.0].index, combined_df[combined_df['signal'] == -1.0]['Price'], label = 'Sell', marker='v', c='r')\n",
    "\n",
    "plt.title('Price Chart & Historical Trades', fontweight=\"bold\")\n",
    "plt.legend()\n",
    "plt.show()"
   ]
  },
  {
   "cell_type": "code",
   "execution_count": null,
   "metadata": {},
   "outputs": [],
   "source": [
    "bt_merged = signal_strategy(price_data.copy(), signal, 'merged')\n",
    "\n",
    "bt_result = bt.run(bt_merged)\n",
    "# Plot the backtest result\n",
    "bt_result.plot(title='Backtest result')\n",
    "plt.show()"
   ]
  },
  {
   "cell_type": "code",
   "execution_count": null,
   "metadata": {},
   "outputs": [],
   "source": [
    "data['Hurst'].plot()"
   ]
  }
 ],
 "metadata": {
  "interpreter": {
   "hash": "bd68a82b279477891a073de5f4c1f7ccc3e7bb19aaa18e5617a6e5ec99b1b0b0"
  },
  "kernelspec": {
   "display_name": "Python 3.8.10 64-bit ('.venv': venv)",
   "name": "python3"
  },
  "language_info": {
   "codemirror_mode": {
    "name": "ipython",
    "version": 3
   },
   "file_extension": ".py",
   "mimetype": "text/x-python",
   "name": "python",
   "nbconvert_exporter": "python",
   "pygments_lexer": "ipython3",
   "version": "3.8.10"
  },
  "orig_nbformat": 2
 },
 "nbformat": 4,
 "nbformat_minor": 2
}
