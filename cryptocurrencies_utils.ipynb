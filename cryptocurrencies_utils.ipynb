{
 "cells": [
  {
   "cell_type": "markdown",
   "metadata": {},
   "source": [
    "## Helpful code to analize crypto"
   ]
  },
  {
   "cell_type": "markdown",
   "metadata": {},
   "source": [
    "### Analize the result of paired trading\n",
    "\n",
    "In this scenario the pair will maintain a balance between value and quote value according with the weight. The rebalance will occur in each candle, so attention on the interval that was chosen in get_data function.\n",
    "\n",
    "#### Example:\n",
    "\n",
    "For the pair BTCUSDT (value = BTC, quote_value = USDT);\n",
    "\n",
    "Total value for the analysis: $ 50000.00;\n",
    "\n",
    "Weight: 2;\n",
    "\n",
    "\n",
    "For each candle, the total value will be divided by the weight, and the rebalance will be perfomed. Is limit_quote_value is setted to True, the rebalance only occurs when the new quote value is greater then the past quote value."
   ]
  },
  {
   "cell_type": "code",
   "execution_count": null,
   "metadata": {},
   "outputs": [],
   "source": [
    "import pandas as pd\n",
    "import numpy as np\n",
    "from binance_utils import init\n",
    "from trade_utils import get_data\n",
    "\n",
    "total_value = 10000.00\n",
    "weight = 2\n",
    "limit_quote_loss = True\n",
    "\n",
    "client_live = init()\n",
    "data = get_data(client_live, 'BTCUSDT', '1M', save=False)\n",
    "data = data['2021-09-09':]\n",
    "data.reset_index(inplace=True)\n",
    "data['result'] = 0.0\n",
    "data['value'] = 0.0\n",
    "data['quoteValue'] = 0.0\n",
    "data['benchmark'] = 0.0\n",
    "\n",
    "initial_quote_value = total_value / weight\n",
    "initial_value = initial_quote_value / data.iloc[0]['ClosePrice']\n",
    "benchmark_value = total_value / data.iloc[0]['ClosePrice']\n",
    "\n",
    "for i in range(len(data)):\n",
    "    if i == 0:\n",
    "        data.loc[i, ['result']] = initial_quote_value * weight\n",
    "    else:\n",
    "        data.loc[i, ['result']] = (data.iloc[i - 1]['value'] * data.iloc[i]['ClosePrice']) + data.iloc[i - 1]['quoteValue']\n",
    "    \n",
    "    quote_value = data.iloc[i]['result'] / weight\n",
    "    if (quote_value < data.iloc[i - 1]['quoteValue'] and limit_quote_loss):\n",
    "        quote_value = data.iloc[i - 1]['quoteValue']\n",
    "    \n",
    "    data.loc[i, ['quoteValue']] = quote_value\n",
    "    data.loc[i, ['value']] = (data.iloc[i]['result']- data.iloc[i]['quoteValue']) / data.iloc[i]['ClosePrice']\n",
    "    data.loc[i, ['benchmark']] = benchmark_value * data.iloc[i]['ClosePrice']\n",
    "\n",
    "data[['OpenTime', 'ClosePrice', 'value', 'quoteValue', 'result', 'benchmark']]"
   ]
  },
  {
   "cell_type": "markdown",
   "metadata": {},
   "source": [
    "### Get all filled trades for a specific pair."
   ]
  },
  {
   "cell_type": "code",
   "execution_count": null,
   "metadata": {},
   "outputs": [],
   "source": [
    "from binance_utils import init, get_trades\n",
    "import pandas as pd\n",
    "\n",
    "client_live = init()\n",
    "\n",
    "data = get_trades(client_live, 'ETHBTC')\n",
    "data"
   ]
  }
 ],
 "metadata": {
  "kernelspec": {
   "display_name": "Python 3.8.10 ('.venv': venv)",
   "language": "python",
   "name": "python3"
  },
  "language_info": {
   "codemirror_mode": {
    "name": "ipython",
    "version": 3
   },
   "file_extension": ".py",
   "mimetype": "text/x-python",
   "name": "python",
   "nbconvert_exporter": "python",
   "pygments_lexer": "ipython3",
   "version": "3.8.10"
  },
  "orig_nbformat": 4,
  "vscode": {
   "interpreter": {
    "hash": "bd68a82b279477891a073de5f4c1f7ccc3e7bb19aaa18e5617a6e5ec99b1b0b0"
   }
  }
 },
 "nbformat": 4,
 "nbformat_minor": 2
}
